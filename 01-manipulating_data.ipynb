{
 "cells": [
  {
   "cell_type": "markdown",
   "metadata": {},
   "source": [
    "# Manipulating Stock Price Data\n",
    "\n",
    "Asset market prices are a fascinating theme. Many researchers have failed in trying to predict their dynamics, and many gurus claim to have became rich by predicting and anticipating price movements - if someone actually manages to do that, they will start buying assets when they have a low price and sell them in peak prices, and will quickly become very rich. However, as we will see, this is not as simple as it might seem.\n",
    "\n",
    "In this notebook, we will use trading strategies as a theme, and will study Python's essential data control structures (for, if, elif, else)."
   ]
  },
  {
   "cell_type": "markdown",
   "metadata": {},
   "source": [
    "## Downloading and visualizing data from yfinance\n",
    "\n",
    "Let's get started. We will first download some data using Yahoo Finance (you could use some other source here and get essentially the same results). The `yfinance` library downloads data and returns a DataFrame. A DataFrame is a data structure from the `pandas` library that is essentially a table with labeled columns and possibly a labeled index:"
   ]
  },
  {
   "cell_type": "code",
   "execution_count": 6,
   "metadata": {},
   "outputs": [
    {
     "name": "stderr",
     "output_type": "stream",
     "text": [
      "[*********************100%***********************]  1 of 1 completed\n"
     ]
    },
    {
     "data": {
      "text/html": [
       "<div>\n",
       "<style scoped>\n",
       "    .dataframe tbody tr th:only-of-type {\n",
       "        vertical-align: middle;\n",
       "    }\n",
       "\n",
       "    .dataframe tbody tr th {\n",
       "        vertical-align: top;\n",
       "    }\n",
       "\n",
       "    .dataframe thead th {\n",
       "        text-align: right;\n",
       "    }\n",
       "</style>\n",
       "<table border=\"1\" class=\"dataframe\">\n",
       "  <thead>\n",
       "    <tr style=\"text-align: right;\">\n",
       "      <th></th>\n",
       "      <th>Close</th>\n",
       "      <th>High</th>\n",
       "      <th>Low</th>\n",
       "      <th>Open</th>\n",
       "      <th>Volume</th>\n",
       "    </tr>\n",
       "    <tr>\n",
       "      <th>Date</th>\n",
       "      <th></th>\n",
       "      <th></th>\n",
       "      <th></th>\n",
       "      <th></th>\n",
       "      <th></th>\n",
       "    </tr>\n",
       "  </thead>\n",
       "  <tbody>\n",
       "    <tr>\n",
       "      <th>2024-01-02</th>\n",
       "      <td>184.734985</td>\n",
       "      <td>187.521338</td>\n",
       "      <td>182.993517</td>\n",
       "      <td>186.237618</td>\n",
       "      <td>82488700</td>\n",
       "    </tr>\n",
       "    <tr>\n",
       "      <th>2024-01-03</th>\n",
       "      <td>183.351761</td>\n",
       "      <td>184.973819</td>\n",
       "      <td>182.535751</td>\n",
       "      <td>183.321908</td>\n",
       "      <td>58414500</td>\n",
       "    </tr>\n",
       "    <tr>\n",
       "      <th>2024-01-04</th>\n",
       "      <td>181.023163</td>\n",
       "      <td>182.197403</td>\n",
       "      <td>179.998185</td>\n",
       "      <td>181.261983</td>\n",
       "      <td>71983600</td>\n",
       "    </tr>\n",
       "    <tr>\n",
       "      <th>2024-01-05</th>\n",
       "      <td>180.296707</td>\n",
       "      <td>181.869006</td>\n",
       "      <td>179.291637</td>\n",
       "      <td>181.102771</td>\n",
       "      <td>62303300</td>\n",
       "    </tr>\n",
       "    <tr>\n",
       "      <th>2024-01-08</th>\n",
       "      <td>184.655365</td>\n",
       "      <td>184.695178</td>\n",
       "      <td>180.615161</td>\n",
       "      <td>181.202281</td>\n",
       "      <td>59144500</td>\n",
       "    </tr>\n",
       "  </tbody>\n",
       "</table>\n",
       "</div>"
      ],
      "text/plain": [
       "                 Close        High         Low        Open    Volume\n",
       "Date                                                                \n",
       "2024-01-02  184.734985  187.521338  182.993517  186.237618  82488700\n",
       "2024-01-03  183.351761  184.973819  182.535751  183.321908  58414500\n",
       "2024-01-04  181.023163  182.197403  179.998185  181.261983  71983600\n",
       "2024-01-05  180.296707  181.869006  179.291637  181.102771  62303300\n",
       "2024-01-08  184.655365  184.695178  180.615161  181.202281  59144500"
      ]
     },
     "execution_count": 6,
     "metadata": {},
     "output_type": "execute_result"
    }
   ],
   "source": [
    "import yfinance as yf\n",
    "\n",
    "TICKER = 'AAPL'  # Let's get Apple stock prices to start!\n",
    "\n",
    "# Lets get daily prices for 2024!\n",
    "df = yf.download(\n",
    "    tickers = TICKER,\n",
    "    start='2024-01-01',\n",
    "    end='2024-12-31',\n",
    "    interval='1d',\n",
    "    multi_level_index=False,\n",
    ")\n",
    "\n",
    "df.head() # Prints the first few lines of df"
   ]
  },
  {
   "cell_type": "code",
   "execution_count": 14,
   "metadata": {},
   "outputs": [
    {
     "name": "stdout",
     "output_type": "stream",
     "text": [
      "Collecting matplotlib\n",
      "  Downloading matplotlib-3.10.0-cp313-cp313-win_amd64.whl.metadata (11 kB)\n",
      "Collecting contourpy>=1.0.1 (from matplotlib)\n",
      "  Downloading contourpy-1.3.1-cp313-cp313-win_amd64.whl.metadata (5.4 kB)\n",
      "Collecting cycler>=0.10 (from matplotlib)\n",
      "  Downloading cycler-0.12.1-py3-none-any.whl.metadata (3.8 kB)\n",
      "Collecting fonttools>=4.22.0 (from matplotlib)\n",
      "  Downloading fonttools-4.56.0-cp313-cp313-win_amd64.whl.metadata (103 kB)\n",
      "Collecting kiwisolver>=1.3.1 (from matplotlib)\n",
      "  Downloading kiwisolver-1.4.8-cp313-cp313-win_amd64.whl.metadata (6.3 kB)\n",
      "Requirement already satisfied: numpy>=1.23 in c:\\users\\pedro\\anaconda3\\envs\\test\\lib\\site-packages (from matplotlib) (2.2.2)\n",
      "Requirement already satisfied: packaging>=20.0 in c:\\users\\pedro\\anaconda3\\envs\\test\\lib\\site-packages (from matplotlib) (24.2)\n",
      "Collecting pillow>=8 (from matplotlib)\n",
      "  Downloading pillow-11.1.0-cp313-cp313-win_amd64.whl.metadata (9.3 kB)\n",
      "Collecting pyparsing>=2.3.1 (from matplotlib)\n",
      "  Downloading pyparsing-3.2.1-py3-none-any.whl.metadata (5.0 kB)\n",
      "Requirement already satisfied: python-dateutil>=2.7 in c:\\users\\pedro\\anaconda3\\envs\\test\\lib\\site-packages (from matplotlib) (2.9.0.post0)\n",
      "Requirement already satisfied: six>=1.5 in c:\\users\\pedro\\anaconda3\\envs\\test\\lib\\site-packages (from python-dateutil>=2.7->matplotlib) (1.17.0)\n",
      "Downloading matplotlib-3.10.0-cp313-cp313-win_amd64.whl (8.0 MB)\n",
      "   ---------------------------------------- 0.0/8.0 MB ? eta -:--:--\n",
      "   ------ --------------------------------- 1.3/8.0 MB 7.3 MB/s eta 0:00:01\n",
      "   -------------- ------------------------- 2.9/8.0 MB 6.9 MB/s eta 0:00:01\n",
      "   -------------------- ------------------- 4.2/8.0 MB 7.0 MB/s eta 0:00:01\n",
      "   ---------------------------- ----------- 5.8/8.0 MB 7.0 MB/s eta 0:00:01\n",
      "   ----------------------------------- ---- 7.1/8.0 MB 7.0 MB/s eta 0:00:01\n",
      "   ---------------------------------------- 8.0/8.0 MB 6.8 MB/s eta 0:00:00\n",
      "Downloading contourpy-1.3.1-cp313-cp313-win_amd64.whl (220 kB)\n",
      "Downloading cycler-0.12.1-py3-none-any.whl (8.3 kB)\n",
      "Downloading fonttools-4.56.0-cp313-cp313-win_amd64.whl (2.2 MB)\n",
      "   ---------------------------------------- 0.0/2.2 MB ? eta -:--:--\n",
      "   ----------------------- ---------------- 1.3/2.2 MB 6.9 MB/s eta 0:00:01\n",
      "   ---------------------------------------- 2.2/2.2 MB 6.4 MB/s eta 0:00:00\n",
      "Downloading kiwisolver-1.4.8-cp313-cp313-win_amd64.whl (71 kB)\n",
      "Downloading pillow-11.1.0-cp313-cp313-win_amd64.whl (2.6 MB)\n",
      "   ---------------------------------------- 0.0/2.6 MB ? eta -:--:--\n",
      "   ------------------- -------------------- 1.3/2.6 MB 6.9 MB/s eta 0:00:01\n",
      "   ---------------------------------------- 2.6/2.6 MB 6.4 MB/s eta 0:00:00\n",
      "Downloading pyparsing-3.2.1-py3-none-any.whl (107 kB)\n",
      "Installing collected packages: pyparsing, pillow, kiwisolver, fonttools, cycler, contourpy, matplotlib\n",
      "Successfully installed contourpy-1.3.1 cycler-0.12.1 fonttools-4.56.0 kiwisolver-1.4.8 matplotlib-3.10.0 pillow-11.1.0 pyparsing-3.2.1\n"
     ]
    },
    {
     "name": "stderr",
     "output_type": "stream",
     "text": [
      "WARNING: Retrying (Retry(total=4, connect=None, read=None, redirect=None, status=None)) after connection broken by 'ConnectTimeoutError(<pip._vendor.urllib3.connection.HTTPSConnection object at 0x000002A21576B0E0>, 'Connection to pypi.org timed out. (connect timeout=15)')': /simple/matplotlib/\n"
     ]
    }
   ],
   "source": [
    "!pip install matplotlib"
   ]
  },
  {
   "cell_type": "markdown",
   "metadata": {},
   "source": [
    "Good.\n",
    "\n",
    "Now we have a table that shows Apple's stock prices for each day in 2024. Note that we have the daily high, low, opening and closing price, as well as the trade volume. The trade volume is in number of traded shares per day.\n",
    "\n",
    "### Acessing dataframe line by label\n",
    "\n",
    "We can access the prices for a specific day using the `df.loc` method of a dataframe:"
   ]
  },
  {
   "cell_type": "code",
   "execution_count": 7,
   "metadata": {},
   "outputs": [
    {
     "data": {
      "text/plain": [
       "Close     1.847350e+02\n",
       "High      1.875213e+02\n",
       "Low       1.829935e+02\n",
       "Open      1.862376e+02\n",
       "Volume    8.248870e+07\n",
       "Name: 2024-01-02 00:00:00, dtype: float64"
      ]
     },
     "execution_count": 7,
     "metadata": {},
     "output_type": "execute_result"
    }
   ],
   "source": [
    "df.loc['2024-01-02']"
   ]
  },
  {
   "cell_type": "markdown",
   "metadata": {},
   "source": [
    "### Acessing dataframe line by index\n",
    "\n",
    "Also, we can access the \"n-th\" entry in the table using `df.iloc`:"
   ]
  },
  {
   "cell_type": "code",
   "execution_count": 8,
   "metadata": {},
   "outputs": [
    {
     "data": {
      "text/plain": [
       "Close     1.847350e+02\n",
       "High      1.875213e+02\n",
       "Low       1.829935e+02\n",
       "Open      1.862376e+02\n",
       "Volume    8.248870e+07\n",
       "Name: 2024-01-02 00:00:00, dtype: float64"
      ]
     },
     "execution_count": 8,
     "metadata": {},
     "output_type": "execute_result"
    }
   ],
   "source": [
    "df.iloc[0]"
   ]
  },
  {
   "cell_type": "markdown",
   "metadata": {},
   "source": [
    "### Selecting a dataframe column\n",
    "\n",
    "To select a specific row, we can use the `df['row_name']` syntax:"
   ]
  },
  {
   "cell_type": "code",
   "execution_count": 9,
   "metadata": {},
   "outputs": [
    {
     "data": {
      "text/plain": [
       "Date\n",
       "2024-01-02    184.734985\n",
       "2024-01-03    183.351761\n",
       "2024-01-04    181.023163\n",
       "2024-01-05    180.296707\n",
       "2024-01-08    184.655365\n",
       "                 ...    \n",
       "2024-12-23    255.270004\n",
       "2024-12-24    258.200012\n",
       "2024-12-26    259.019989\n",
       "2024-12-27    255.589996\n",
       "2024-12-30    252.199997\n",
       "Name: Close, Length: 251, dtype: float64"
      ]
     },
     "execution_count": 9,
     "metadata": {},
     "output_type": "execute_result"
    }
   ],
   "source": [
    "df['Close']"
   ]
  },
  {
   "cell_type": "markdown",
   "metadata": {},
   "source": [
    "### Combining everything\n",
    "\n",
    "Of course, we can combine everything and select, for example, the closing price of `APPL` in November 2nd, 2024:"
   ]
  },
  {
   "cell_type": "code",
   "execution_count": 10,
   "metadata": {},
   "outputs": [
    {
     "data": {
      "text/plain": [
       "np.float64(221.76600646972656)"
      ]
     },
     "execution_count": 10,
     "metadata": {},
     "output_type": "execute_result"
    }
   ],
   "source": [
    "df.loc['2024-11-04']['Close']"
   ]
  },
  {
   "cell_type": "markdown",
   "metadata": {},
   "source": [
    "### Getting data in a range\n",
    "\n",
    "We might be interested in a particular subset of our data. In the case of time series, this is likely a particular range of possible days. So, we could write a filter to select our data. For such, we will use boolean operations. For example, we could try to find all data for November 2024:"
   ]
  },
  {
   "cell_type": "code",
   "execution_count": 11,
   "metadata": {},
   "outputs": [
    {
     "data": {
      "text/plain": [
       "Date\n",
       "2024-11-01    222.665024\n",
       "2024-11-04    221.766006\n",
       "2024-11-05    223.204422\n",
       "2024-11-06    222.475235\n",
       "2024-11-07    227.229996\n",
       "2024-11-08    226.960007\n",
       "2024-11-11    224.229996\n",
       "2024-11-12    224.229996\n",
       "2024-11-13    225.119995\n",
       "2024-11-14    228.220001\n",
       "2024-11-15    225.000000\n",
       "2024-11-18    228.020004\n",
       "2024-11-19    228.279999\n",
       "2024-11-20    229.000000\n",
       "2024-11-21    228.520004\n",
       "2024-11-22    229.869995\n",
       "2024-11-25    232.869995\n",
       "2024-11-26    235.059998\n",
       "2024-11-27    234.929993\n",
       "2024-11-29    237.330002\n",
       "Name: Close, dtype: float64"
      ]
     },
     "execution_count": 11,
     "metadata": {},
     "output_type": "execute_result"
    }
   ],
   "source": [
    "time_filter = (df.index >= '2024-11-01') & (df.index <= '2024-11-30')\n",
    "df.loc[time_filter]['Close']"
   ]
  },
  {
   "cell_type": "markdown",
   "metadata": {},
   "source": [
    "### Plotting data\n",
    "\n",
    "We can use `matplotlib` to make a basic plot of our data. For such, we first select a range, a column, and then save that to a variable. Then, we use Matplotlib's functions to make a figure:"
   ]
  },
  {
   "cell_type": "code",
   "execution_count": 15,
   "metadata": {},
   "outputs": [
    {
     "data": {
      "image/png": "[encoded data removed]",
      "text/plain": [
       "<Figure size 1000x300 with 1 Axes>"
      ]
     },
     "metadata": {},
     "output_type": "display_data"
    }
   ],
   "source": [
    "import matplotlib.pyplot as plt\n",
    "\n",
    "time_filter = (df.index >= '2024-11-01') & (df.index <= '2024-11-30')\n",
    "data_to_plot = df.loc[time_filter]['Close']\n",
    "\n",
    "plt.figure( figsize=(10,3) )\n",
    "plt.plot(data_to_plot)\n",
    "plt.show()"
   ]
  },
  {
   "cell_type": "markdown",
   "metadata": {},
   "source": [
    "## Exercise with data manipulation\n",
    "\n",
    "1. Get monthly APPLE stock prices from 2020 to 2024.\n",
    "1. Plot this data so that you can visualize closing prices within this period\n",
    "1. If I go back in time and buy 1 million Dollars worth of apple stocks in early 2020, how much would these stocks be worth by the end of 2024?"
   ]
  },
  {
   "cell_type": "code",
   "execution_count": 36,
   "metadata": {},
   "outputs": [],
   "source": [
    "# Code your solution here"
   ]
  },
  {
   "cell_type": "code",
   "execution_count": 37,
   "metadata": {},
   "outputs": [
    {
     "name": "stderr",
     "output_type": "stream",
     "text": [
      "[*********************100%***********************]  1 of 1 completed"
     ]
    },
    {
     "name": "stdout",
     "output_type": "stream",
     "text": [
      "Ticker\n",
      "AAPL    3.338216\n",
      "dtype: float64\n"
     ]
    },
    {
     "name": "stderr",
     "output_type": "stream",
     "text": [
      "\n"
     ]
    },
    {
     "data": {
      "image/png": "[encoded data removed]",
      "text/plain": [
       "<Figure size 1000x300 with 1 Axes>"
      ]
     },
     "metadata": {},
     "output_type": "display_data"
    }
   ],
   "source": [
    "\n",
    "# This is my solution. It's not the only way to do it!\n",
    "# Do NOT look at my solution before trying yours!!!\n",
    "\n",
    "\n",
    "\n",
    "\n",
    "\n",
    "\n",
    "\n",
    "\n",
    "\n",
    "\n",
    "\n",
    "\n",
    "\n",
    "\n",
    "\n",
    "\n",
    "\n",
    "\n",
    "\n",
    "\n",
    "\n",
    "\n",
    "\n",
    "\n",
    "\n",
    "TICKER = 'AAPL'  # Let's get Apple stock prices to start!\n",
    "\n",
    "df = yf.download(\n",
    "    tickers = TICKER,\n",
    "    start='2020-01-01',\n",
    "    end='2024-12-31',\n",
    "    interval='1mo',\n",
    ")\n",
    "\n",
    "start_value = df.loc['2020-01-01']['Close']\n",
    "end_value = df.loc['2024-12-01']['Close']\n",
    "\n",
    "n_stocks = 1 / start_value\n",
    "final_portfolio_value = n_stocks * end_value\n",
    "print(final_portfolio_value)\n",
    "\n",
    "closing_prices = df['Close']\n",
    "plt.figure( figsize=(10,3) )\n",
    "plt.plot(closing_prices)\n",
    "plt.show()"
   ]
  },
  {
   "cell_type": "code",
   "execution_count": null,
   "metadata": {},
   "outputs": [],
   "source": []
  },
  {
   "cell_type": "markdown",
   "metadata": {},
   "source": [
    "## Manipulating data\n",
    "\n",
    "We can manipulate our data to get decisions from it. There are many strategies we can use for such. \n",
    "\n",
    "### Math operations\n",
    "\n",
    "Python allows us to manipulate simple variables, just as in:"
   ]
  },
  {
   "cell_type": "code",
   "execution_count": 16,
   "metadata": {},
   "outputs": [
    {
     "name": "stdout",
     "output_type": "stream",
     "text": [
      "5\n",
      "9.0\n",
      "8\n"
     ]
    }
   ],
   "source": [
    "a = 5 # Attribution\n",
    "b = a + 12 / 3 # Expressions\n",
    "c = 2**3 # Exponentiation\n",
    "print(a)\n",
    "print(b)\n",
    "print(c)"
   ]
  },
  {
   "cell_type": "markdown",
   "metadata": {},
   "source": [
    "but we can also use this same syntax to create columns in our dataframe:"
   ]
  },
  {
   "cell_type": "code",
   "execution_count": 17,
   "metadata": {},
   "outputs": [
    {
     "name": "stderr",
     "output_type": "stream",
     "text": [
      "[*********************100%***********************]  1 of 1 completed\n"
     ]
    },
    {
     "data": {
      "text/html": [
       "<div>\n",
       "<style scoped>\n",
       "    .dataframe tbody tr th:only-of-type {\n",
       "        vertical-align: middle;\n",
       "    }\n",
       "\n",
       "    .dataframe tbody tr th {\n",
       "        vertical-align: top;\n",
       "    }\n",
       "\n",
       "    .dataframe thead th {\n",
       "        text-align: right;\n",
       "    }\n",
       "</style>\n",
       "<table border=\"1\" class=\"dataframe\">\n",
       "  <thead>\n",
       "    <tr style=\"text-align: right;\">\n",
       "      <th></th>\n",
       "      <th>Close</th>\n",
       "      <th>High</th>\n",
       "      <th>Low</th>\n",
       "      <th>Open</th>\n",
       "      <th>Volume</th>\n",
       "      <th>Variation</th>\n",
       "      <th>Perc_Variation</th>\n",
       "    </tr>\n",
       "    <tr>\n",
       "      <th>Date</th>\n",
       "      <th></th>\n",
       "      <th></th>\n",
       "      <th></th>\n",
       "      <th></th>\n",
       "      <th></th>\n",
       "      <th></th>\n",
       "      <th></th>\n",
       "    </tr>\n",
       "  </thead>\n",
       "  <tbody>\n",
       "    <tr>\n",
       "      <th>2024-01-02</th>\n",
       "      <td>184.734985</td>\n",
       "      <td>187.521338</td>\n",
       "      <td>182.993517</td>\n",
       "      <td>186.237618</td>\n",
       "      <td>82488700</td>\n",
       "      <td>-1.502633</td>\n",
       "      <td>-0.806837</td>\n",
       "    </tr>\n",
       "    <tr>\n",
       "      <th>2024-01-03</th>\n",
       "      <td>183.351761</td>\n",
       "      <td>184.973819</td>\n",
       "      <td>182.535751</td>\n",
       "      <td>183.321908</td>\n",
       "      <td>58414500</td>\n",
       "      <td>0.029853</td>\n",
       "      <td>0.016284</td>\n",
       "    </tr>\n",
       "    <tr>\n",
       "      <th>2024-01-04</th>\n",
       "      <td>181.023163</td>\n",
       "      <td>182.197403</td>\n",
       "      <td>179.998185</td>\n",
       "      <td>181.261983</td>\n",
       "      <td>71983600</td>\n",
       "      <td>-0.238820</td>\n",
       "      <td>-0.131754</td>\n",
       "    </tr>\n",
       "    <tr>\n",
       "      <th>2024-01-05</th>\n",
       "      <td>180.296707</td>\n",
       "      <td>181.869006</td>\n",
       "      <td>179.291637</td>\n",
       "      <td>181.102771</td>\n",
       "      <td>62303300</td>\n",
       "      <td>-0.806064</td>\n",
       "      <td>-0.445086</td>\n",
       "    </tr>\n",
       "    <tr>\n",
       "      <th>2024-01-08</th>\n",
       "      <td>184.655365</td>\n",
       "      <td>184.695178</td>\n",
       "      <td>180.615161</td>\n",
       "      <td>181.202281</td>\n",
       "      <td>59144500</td>\n",
       "      <td>3.453084</td>\n",
       "      <td>1.905652</td>\n",
       "    </tr>\n",
       "  </tbody>\n",
       "</table>\n",
       "</div>"
      ],
      "text/plain": [
       "                 Close        High         Low        Open    Volume  \\\n",
       "Date                                                                   \n",
       "2024-01-02  184.734985  187.521338  182.993517  186.237618  82488700   \n",
       "2024-01-03  183.351761  184.973819  182.535751  183.321908  58414500   \n",
       "2024-01-04  181.023163  182.197403  179.998185  181.261983  71983600   \n",
       "2024-01-05  180.296707  181.869006  179.291637  181.102771  62303300   \n",
       "2024-01-08  184.655365  184.695178  180.615161  181.202281  59144500   \n",
       "\n",
       "            Variation  Perc_Variation  \n",
       "Date                                   \n",
       "2024-01-02  -1.502633       -0.806837  \n",
       "2024-01-03   0.029853        0.016284  \n",
       "2024-01-04  -0.238820       -0.131754  \n",
       "2024-01-05  -0.806064       -0.445086  \n",
       "2024-01-08   3.453084        1.905652  "
      ]
     },
     "execution_count": 17,
     "metadata": {},
     "output_type": "execute_result"
    }
   ],
   "source": [
    "import yfinance as yf\n",
    "\n",
    "TICKER = 'AAPL'  # Let's get Apple stock prices to start!\n",
    "\n",
    "# Lets get daily prices for 2024!\n",
    "df = yf.download(\n",
    "    tickers = TICKER,\n",
    "    start='2024-01-01',\n",
    "    end='2024-12-31',\n",
    "    interval='1d',\n",
    "    multi_level_index=False,\n",
    ")\n",
    "\n",
    "# Pay attention to the syntax here. We are creating a new column called 'Variation' in the DataFrame.\n",
    "df['Variation'] = df['Close'] - df['Open']\n",
    "df['Perc_Variation'] = 100*df['Variation'] / df['Open']\n",
    "df.head()"
   ]
  },
  {
   "cell_type": "markdown",
   "metadata": {},
   "source": [
    "### Boolean operations\n",
    "\n",
    "We could also try to check if days had a positive or a negative intra-day price variation. For such, we can use `>`, `<` and `==` operators. I am going to use that to find \"winning\" days, which are days in which the closing price is higher than the opening price (in a candlestick chart, these would be \"green candle\" days)."
   ]
  },
  {
   "cell_type": "code",
   "execution_count": 18,
   "metadata": {},
   "outputs": [
    {
     "data": {
      "text/html": [
       "<div>\n",
       "<style scoped>\n",
       "    .dataframe tbody tr th:only-of-type {\n",
       "        vertical-align: middle;\n",
       "    }\n",
       "\n",
       "    .dataframe tbody tr th {\n",
       "        vertical-align: top;\n",
       "    }\n",
       "\n",
       "    .dataframe thead th {\n",
       "        text-align: right;\n",
       "    }\n",
       "</style>\n",
       "<table border=\"1\" class=\"dataframe\">\n",
       "  <thead>\n",
       "    <tr style=\"text-align: right;\">\n",
       "      <th></th>\n",
       "      <th>Close</th>\n",
       "      <th>High</th>\n",
       "      <th>Low</th>\n",
       "      <th>Open</th>\n",
       "      <th>Volume</th>\n",
       "      <th>Variation</th>\n",
       "      <th>Perc_Variation</th>\n",
       "      <th>Winning_Day</th>\n",
       "    </tr>\n",
       "    <tr>\n",
       "      <th>Date</th>\n",
       "      <th></th>\n",
       "      <th></th>\n",
       "      <th></th>\n",
       "      <th></th>\n",
       "      <th></th>\n",
       "      <th></th>\n",
       "      <th></th>\n",
       "      <th></th>\n",
       "    </tr>\n",
       "  </thead>\n",
       "  <tbody>\n",
       "    <tr>\n",
       "      <th>2024-01-02</th>\n",
       "      <td>184.734985</td>\n",
       "      <td>187.521338</td>\n",
       "      <td>182.993517</td>\n",
       "      <td>186.237618</td>\n",
       "      <td>82488700</td>\n",
       "      <td>-1.502633</td>\n",
       "      <td>-0.806837</td>\n",
       "      <td>False</td>\n",
       "    </tr>\n",
       "    <tr>\n",
       "      <th>2024-01-03</th>\n",
       "      <td>183.351761</td>\n",
       "      <td>184.973819</td>\n",
       "      <td>182.535751</td>\n",
       "      <td>183.321908</td>\n",
       "      <td>58414500</td>\n",
       "      <td>0.029853</td>\n",
       "      <td>0.016284</td>\n",
       "      <td>True</td>\n",
       "    </tr>\n",
       "    <tr>\n",
       "      <th>2024-01-04</th>\n",
       "      <td>181.023163</td>\n",
       "      <td>182.197403</td>\n",
       "      <td>179.998185</td>\n",
       "      <td>181.261983</td>\n",
       "      <td>71983600</td>\n",
       "      <td>-0.238820</td>\n",
       "      <td>-0.131754</td>\n",
       "      <td>False</td>\n",
       "    </tr>\n",
       "    <tr>\n",
       "      <th>2024-01-05</th>\n",
       "      <td>180.296707</td>\n",
       "      <td>181.869006</td>\n",
       "      <td>179.291637</td>\n",
       "      <td>181.102771</td>\n",
       "      <td>62303300</td>\n",
       "      <td>-0.806064</td>\n",
       "      <td>-0.445086</td>\n",
       "      <td>False</td>\n",
       "    </tr>\n",
       "    <tr>\n",
       "      <th>2024-01-08</th>\n",
       "      <td>184.655365</td>\n",
       "      <td>184.695178</td>\n",
       "      <td>180.615161</td>\n",
       "      <td>181.202281</td>\n",
       "      <td>59144500</td>\n",
       "      <td>3.453084</td>\n",
       "      <td>1.905652</td>\n",
       "      <td>True</td>\n",
       "    </tr>\n",
       "  </tbody>\n",
       "</table>\n",
       "</div>"
      ],
      "text/plain": [
       "                 Close        High         Low        Open    Volume  \\\n",
       "Date                                                                   \n",
       "2024-01-02  184.734985  187.521338  182.993517  186.237618  82488700   \n",
       "2024-01-03  183.351761  184.973819  182.535751  183.321908  58414500   \n",
       "2024-01-04  181.023163  182.197403  179.998185  181.261983  71983600   \n",
       "2024-01-05  180.296707  181.869006  179.291637  181.102771  62303300   \n",
       "2024-01-08  184.655365  184.695178  180.615161  181.202281  59144500   \n",
       "\n",
       "            Variation  Perc_Variation  Winning_Day  \n",
       "Date                                                \n",
       "2024-01-02  -1.502633       -0.806837        False  \n",
       "2024-01-03   0.029853        0.016284         True  \n",
       "2024-01-04  -0.238820       -0.131754        False  \n",
       "2024-01-05  -0.806064       -0.445086        False  \n",
       "2024-01-08   3.453084        1.905652         True  "
      ]
     },
     "execution_count": 18,
     "metadata": {},
     "output_type": "execute_result"
    }
   ],
   "source": [
    "df['Winning_Day'] = df['Variation'] >= 0\n",
    "df.head()"
   ]
  },
  {
   "cell_type": "markdown",
   "metadata": {},
   "source": [
    "We can use boolean values to control the flow of our programs using `if`, `elif`, `else`, as in:"
   ]
  },
  {
   "cell_type": "code",
   "execution_count": 19,
   "metadata": {},
   "outputs": [
    {
     "name": "stdout",
     "output_type": "stream",
     "text": [
      "a is equal to 5\n"
     ]
    }
   ],
   "source": [
    "a = 5\n",
    "if a > 10:\n",
    "    print('a is greater than 10')\n",
    "elif a==5: #elif is short for \"else if\"\n",
    "    print('a is equal to 5')\n",
    "else:\n",
    "    print('a is less than 10 and different from 5')"
   ]
  },
  {
   "cell_type": "markdown",
   "metadata": {},
   "source": [
    "### Loops\n",
    "\n",
    "Sometimes we want to do operations over many elements of a series. For such an application, we use loops. Typically, in Python, we use `for` loops. For example, to count how many winning days we had in 2024, we could use:"
   ]
  },
  {
   "cell_type": "code",
   "execution_count": 20,
   "metadata": {},
   "outputs": [
    {
     "name": "stdout",
     "output_type": "stream",
     "text": [
      "Number of winning days: 137\n",
      "Total number of days: 251\n",
      "Fraction of winnning days: 0.545816733067729\n"
     ]
    }
   ],
   "source": [
    "N_days = len(df)\n",
    "N_winning = 0\n",
    "for i in range(N_days):\n",
    "    if df.iloc[i]['Winning_Day']==True:\n",
    "        N_winning = N_winning + 1\n",
    "print(\"Number of winning days:\", N_winning)\n",
    "print(\"Total number of days:\", N_days)\n",
    "print(\"Fraction of winnning days:\", N_winning/N_days)"
   ]
  },
  {
   "cell_type": "markdown",
   "metadata": {},
   "source": [
    "`for` loops can be used in other Python data structures, like lists and `numpy.array`s:"
   ]
  },
  {
   "cell_type": "code",
   "execution_count": 21,
   "metadata": {},
   "outputs": [
    {
     "name": "stdout",
     "output_type": "stream",
     "text": [
      "1\n",
      "2\n",
      "3\n",
      "4\n"
     ]
    }
   ],
   "source": [
    "import numpy as np\n",
    "my_list = [1, 2]\n",
    "my_array = np.array([3, 4])\n",
    "\n",
    "for i in range(len(my_list)):\n",
    "    print(my_list[i])\n",
    "\n",
    "for i in range(len(my_array)):\n",
    "    print(my_array[i])\n"
   ]
  },
  {
   "cell_type": "markdown",
   "metadata": {},
   "source": [
    "## Exercise with data manipulation\n",
    "\n",
    "Using a `for` loop, calculate the mean value for the `Perc_Variation` column that we have defined above."
   ]
  },
  {
   "cell_type": "code",
   "execution_count": 44,
   "metadata": {},
   "outputs": [],
   "source": [
    "# Make your solution here\n"
   ]
  },
  {
   "cell_type": "code",
   "execution_count": 22,
   "metadata": {},
   "outputs": [
    {
     "name": "stdout",
     "output_type": "stream",
     "text": [
      "The mean percentual variation is 0.26237081380195787\n"
     ]
    }
   ],
   "source": [
    "# This is my solution. It's not the only way to do it!\n",
    "# Do NOT look at my solution before trying yours!!!\n",
    "\n",
    "\n",
    "\n",
    "\n",
    "\n",
    "\n",
    "\n",
    "\n",
    "\n",
    "\n",
    "\n",
    "\n",
    "\n",
    "\n",
    "\n",
    "\n",
    "\n",
    "\n",
    "accumulator = 0.0\n",
    "for n in range(len(df)):\n",
    "    accumulator = accumulator + df.iloc[n]['Variation']\n",
    "mean_value = accumulator / len(df)\n",
    "print(\"The mean percentual variation is\", mean_value)"
   ]
  },
  {
   "cell_type": "code",
   "execution_count": null,
   "metadata": {},
   "outputs": [],
   "source": []
  },
  {
   "cell_type": "markdown",
   "metadata": {},
   "source": [
    "## A trading strategy\n",
    "\n",
    "Now, we are ready to implement and backtest a trading strategy. \n",
    "\n",
    "This is not a trading course, so we are going to use an easy - and possibly terrible - strategy. However, it fits our examples, so there is that.\n",
    "\n",
    "The strategy works like this: every day, after market closes, we will check if Apple stocks went up or if they went down during that day (that is, if it was a \"winning\" day). If it was a winning day, then we get really excited! We get all our money and buy Apple stocks at the opening price, and sell just before the market closes, by whatever price is possible. It it was not a winning day, we get upset and do not trade the following day.\n",
    "\n",
    "Now that we have defined our strategy, we need to test it on historical data. This is called \"backtest\". Since this is 2025, we can test it in data from 2024:"
   ]
  },
  {
   "cell_type": "code",
   "execution_count": 23,
   "metadata": {},
   "outputs": [
    {
     "name": "stderr",
     "output_type": "stream",
     "text": [
      "[*********************100%***********************]  1 of 1 completed\n"
     ]
    },
    {
     "data": {
      "text/html": [
       "<div>\n",
       "<style scoped>\n",
       "    .dataframe tbody tr th:only-of-type {\n",
       "        vertical-align: middle;\n",
       "    }\n",
       "\n",
       "    .dataframe tbody tr th {\n",
       "        vertical-align: top;\n",
       "    }\n",
       "\n",
       "    .dataframe thead th {\n",
       "        text-align: right;\n",
       "    }\n",
       "</style>\n",
       "<table border=\"1\" class=\"dataframe\">\n",
       "  <thead>\n",
       "    <tr style=\"text-align: right;\">\n",
       "      <th></th>\n",
       "      <th>Close</th>\n",
       "      <th>High</th>\n",
       "      <th>Low</th>\n",
       "      <th>Open</th>\n",
       "      <th>Volume</th>\n",
       "      <th>Winning</th>\n",
       "    </tr>\n",
       "    <tr>\n",
       "      <th>Date</th>\n",
       "      <th></th>\n",
       "      <th></th>\n",
       "      <th></th>\n",
       "      <th></th>\n",
       "      <th></th>\n",
       "      <th></th>\n",
       "    </tr>\n",
       "  </thead>\n",
       "  <tbody>\n",
       "    <tr>\n",
       "      <th>2024-01-02</th>\n",
       "      <td>184.734985</td>\n",
       "      <td>187.521338</td>\n",
       "      <td>182.993517</td>\n",
       "      <td>186.237618</td>\n",
       "      <td>82488700</td>\n",
       "      <td>False</td>\n",
       "    </tr>\n",
       "    <tr>\n",
       "      <th>2024-01-03</th>\n",
       "      <td>183.351761</td>\n",
       "      <td>184.973819</td>\n",
       "      <td>182.535751</td>\n",
       "      <td>183.321908</td>\n",
       "      <td>58414500</td>\n",
       "      <td>True</td>\n",
       "    </tr>\n",
       "    <tr>\n",
       "      <th>2024-01-04</th>\n",
       "      <td>181.023163</td>\n",
       "      <td>182.197403</td>\n",
       "      <td>179.998185</td>\n",
       "      <td>181.261983</td>\n",
       "      <td>71983600</td>\n",
       "      <td>False</td>\n",
       "    </tr>\n",
       "    <tr>\n",
       "      <th>2024-01-05</th>\n",
       "      <td>180.296707</td>\n",
       "      <td>181.869006</td>\n",
       "      <td>179.291637</td>\n",
       "      <td>181.102771</td>\n",
       "      <td>62303300</td>\n",
       "      <td>False</td>\n",
       "    </tr>\n",
       "    <tr>\n",
       "      <th>2024-01-08</th>\n",
       "      <td>184.655365</td>\n",
       "      <td>184.695178</td>\n",
       "      <td>180.615161</td>\n",
       "      <td>181.202281</td>\n",
       "      <td>59144500</td>\n",
       "      <td>True</td>\n",
       "    </tr>\n",
       "  </tbody>\n",
       "</table>\n",
       "</div>"
      ],
      "text/plain": [
       "                 Close        High         Low        Open    Volume  Winning\n",
       "Date                                                                         \n",
       "2024-01-02  184.734985  187.521338  182.993517  186.237618  82488700    False\n",
       "2024-01-03  183.351761  184.973819  182.535751  183.321908  58414500     True\n",
       "2024-01-04  181.023163  182.197403  179.998185  181.261983  71983600    False\n",
       "2024-01-05  180.296707  181.869006  179.291637  181.102771  62303300    False\n",
       "2024-01-08  184.655365  184.695178  180.615161  181.202281  59144500     True"
      ]
     },
     "execution_count": 23,
     "metadata": {},
     "output_type": "execute_result"
    }
   ],
   "source": [
    "import yfinance as yf\n",
    "\n",
    "TICKER = 'AAPL'  # Let's get Apple stock prices to start!\n",
    "\n",
    "# Lets get daily prices for 2024!\n",
    "df = yf.download(\n",
    "    tickers = TICKER,\n",
    "    start='2024-01-01',\n",
    "    end='2024-12-31',\n",
    "    interval='1d',\n",
    "    multi_level_index=False,\n",
    ")\n",
    "\n",
    "df['Winning'] = df['Close'] > df['Open']\n",
    "df.head()"
   ]
  },
  {
   "cell_type": "markdown",
   "metadata": {},
   "source": [
    "So now we can iterate through all days to check yesterday's \"winning\" status. However, we have to skip the first day, because, well, in the beggining there was no \"yesterday\":"
   ]
  },
  {
   "cell_type": "code",
   "execution_count": 26,
   "metadata": {},
   "outputs": [
    {
     "name": "stdout",
     "output_type": "stream",
     "text": [
      "Final money: 1097.1147356844535\n"
     ]
    }
   ],
   "source": [
    "my_money = 1000 # This is how much money I have to start with\n",
    "for today in range(1, len(df)):\n",
    "    yesterday = today - 1\n",
    "    yesterday_was_winning = df.iloc[yesterday]['Winning']\n",
    "    if yesterday_was_winning: #or not yesterday_was_winning\n",
    "        # Here I simulate the buying and selling of stocks:\n",
    "        continue\n",
    "    else:\n",
    "        # I buy stocks on opening prices with all my money:\n",
    "        n_stocks = my_money / df.iloc[today]['Open']\n",
    "        # Now I sell all my stocks in the afternoon:\n",
    "        my_money = n_stocks * df.iloc[today]['Close']\n",
    "\n",
    "print(\"Final money:\", my_money)"
   ]
  },
  {
   "cell_type": "markdown",
   "metadata": {},
   "source": [
    "Ok, so we \"won\" some money here. Let's compare that with an even simpler approach, which would be buying stocks and then holding on to them until it is time to sell:"
   ]
  },
  {
   "cell_type": "code",
   "execution_count": 25,
   "metadata": {},
   "outputs": [
    {
     "name": "stdout",
     "output_type": "stream",
     "text": [
      "Final money: 1365.1988900114911\n"
     ]
    }
   ],
   "source": [
    "my_money = 1000\n",
    "n_stocks = my_money / df.iloc[0][ 'Close']\n",
    "my_money = n_stocks * df.iloc[today]['Close']\n",
    "print(\"Final money:\", my_money)"
   ]
  },
  {
   "cell_type": "markdown",
   "metadata": {},
   "source": [
    "Ok, as we can see, we actually \"lost\" some money here. The buy-and-hold strategy is simpler and yields better results in the backtest. This is because our strategy is naive, not based in anything real, and, worst than that: it seems to be \"making money\" because the asset we chose had an important growth in the period we analyzed.\n",
    "\n",
    "## Exercises with trading strategies\n",
    "\n",
    "### A trend line\n",
    "\n",
    "One method to analyze stocks is to find something called a \"trend\" line. A trend is a more stable signal that can be used to disregard most high-frequency variations and allows as to say: \"it is going up\" or \"it is going down\". A trend line is essentially the result of low-pass filtering the financial series. A very simple way to make a trend line is to use a moving average filter:\n",
    "\n",
    "$$\n",
    "y_t = \\alpha y_{t-1} + (1-\\alpha) x_{t},\n",
    "$$\n",
    "where $x_t$ is the financial series at time $t$, $y_t$ is the trend at time $t$, and $\\alpha$ is a coefficient that regulates how much you want to filter out high-frequency variations.\n",
    "\n",
    "In this exercise, use a `for` loop and plot a trend line for APPL stock prices in 2024.\n",
    "\n",
    "Hint: you can initialize Python lists and append values to them using:\n",
    "\n",
    "    my_list = []\n",
    "    my_list.append(5)\n",
    "    my_list.append(7)\n",
    "    print(my_list[0], my_list[1])\n",
    "\n",
    "Hint 2: you might want to initialize $y_0 = x_0$.\n",
    "\n",
    "### Reversion to the mean\n",
    "\n",
    "There is something in Finance called \"reversion to the mean\". The idea is that prices that are too low tend to go up, and prices that are too high tend to go down. This happens in some financial series, but do not happen in others. Using reversion to the mean, and the trend line you developed in the previous exercise, to make a trading strategy using buy and sell operations. Assume we will only place orders near the market close, that is, we can know the closing price and buy at that price in each particular day."
   ]
  },
  {
   "cell_type": "code",
   "execution_count": 63,
   "metadata": {},
   "outputs": [
    {
     "data": {
      "image/png": "[encoded data removed]",
      "text/plain": [
       "<Figure size 700x300 with 1 Axes>"
      ]
     },
     "metadata": {},
     "output_type": "display_data"
    },
    {
     "name": "stdout",
     "output_type": "stream",
     "text": [
      "1139.1965592203333\n"
     ]
    }
   ],
   "source": [
    "# Make your answers here.\n",
    "\n",
    "#===Making the trend===\n",
    "y = []\n",
    "alpha = 0.9\n",
    "y.append(df.iloc[0][\"Close\"])\n",
    "for t in range(1,len(df)):\n",
    "    yt = alpha*y[t-1] + (1-alpha)*df.iloc[t][\"Close\"]\n",
    "    y.append(yt)\n",
    "df[\"Trend\"] = y\n",
    "\n",
    "#===Making the strategy===\n",
    "my_money = 1000\n",
    "n_stocks = 0\n",
    "\n",
    "for i in range(1,len(df)-1):\n",
    "    if df.iloc[i][\"Open\"] < df.iloc[i-1][\"Trend\"]:\n",
    "        # I buy stocks on opening prices with all my money:\n",
    "        if my_money != 0:\n",
    "            n_stocks = my_money / df.iloc[i]['Open']\n",
    "            my_money = 0\n",
    "    else:\n",
    "        if n_stocks != 0:\n",
    "            # Now I sell all my stocks in the afternoon:\n",
    "            my_money = n_stocks * df.iloc[i]['Close']\n",
    "            n_stocks = 0\n",
    "\n",
    "#last day i have to sell everything\n",
    "if n_stocks != 0:\n",
    "    # Now I sell all my stocks in the afternoon:\n",
    "    my_money = n_stocks * df.iloc[i]['Close']\n",
    "    n_stocks = 0\n",
    "\n",
    "#===Plotting===\n",
    "plt.figure( figsize=(7,3) )\n",
    "plt.plot(df[\"Close\"], label = 'Closing price')\n",
    "plt.plot(df[\"Trend\"], label = 'Trend')\n",
    "plt.legend()\n",
    "plt.show()\n",
    "print(my_money)\n",
    "\n"
   ]
  },
  {
   "cell_type": "code",
   "execution_count": 50,
   "metadata": {},
   "outputs": [
    {
     "name": "stderr",
     "output_type": "stream",
     "text": [
      "[*********************100%***********************]  1 of 1 completed"
     ]
    },
    {
     "name": "stdout",
     "output_type": "stream",
     "text": [
      "I ended up with $ 1235.0139905800115\n"
     ]
    },
    {
     "name": "stderr",
     "output_type": "stream",
     "text": [
      "\n"
     ]
    },
    {
     "data": {
      "image/png": "[encoded data removed]",
      "text/plain": [
       "<Figure size 700x300 with 1 Axes>"
      ]
     },
     "metadata": {},
     "output_type": "display_data"
    }
   ],
   "source": [
    "# This is my solution. It's not the only way to do it!\n",
    "# Do NOT look at my solution before trying yours!!!\n",
    "\n",
    "\n",
    "\n",
    "\n",
    "\n",
    "\n",
    "\n",
    "\n",
    "\n",
    "\n",
    "\n",
    "\n",
    "\n",
    "\n",
    "\n",
    "\n",
    "import yfinance as yf\n",
    "\n",
    "TICKER = 'AAPL'  # Let's get Apple stock prices to start!\n",
    "\n",
    "# Lets get daily prices for 2024!\n",
    "df = yf.download(\n",
    "    tickers = TICKER,\n",
    "    start='2024-01-01',\n",
    "    end='2024-12-31',\n",
    "    interval='1d',\n",
    "    multi_level_index=False,\n",
    ")\n",
    "\n",
    "closing_prices = df['Close']\n",
    "trendline = []\n",
    "alpha = 0.7\n",
    "\n",
    "my_money = 1000\n",
    "my_stocks = 0\n",
    "assets = 'cash' # I will change this for 'stocks' when I buy stocks\n",
    "\n",
    "\n",
    "trendline.append( closing_prices.iloc[0] )\n",
    "for i in range(1, len(closing_prices)):\n",
    "    # Make a trendline\n",
    "    newtrend = alpha * trendline[i-1] + (1-alpha) * closing_prices.iloc[i]\n",
    "    trendline.append(newtrend)\n",
    "\n",
    "    # This is the trading strategy\n",
    "    if (assets=='cash') and (closing_prices.iloc[i] < trendline[i]):\n",
    "        # Buy stocks\n",
    "        my_stocks = my_money / closing_prices.iloc[i]\n",
    "        my_money = 0\n",
    "        assets = 'stocks'\n",
    "    elif (assets=='stocks') and (closing_prices.iloc[i] > trendline[i]):\n",
    "        # Sell stocks\n",
    "        my_money = my_stocks * closing_prices.iloc[i]\n",
    "        my_stocks = 0\n",
    "        assets = 'cash'\n",
    "\n",
    "my_worth = my_money + my_stocks * closing_prices.iloc[-1]\n",
    "print(\"I ended up with $\", my_worth) # Ok, according to my calculations, my strategy is not very good...  \n",
    "\n",
    "plt.figure( figsize=(7,3) )\n",
    "plt.plot(closing_prices, label='Closing Prices')\n",
    "plt.plot(closing_prices.index, trendline, label='Trend')\n",
    "plt.legend()\n",
    "plt.show()\n"
   ]
  },
  {
   "cell_type": "code",
   "execution_count": null,
   "metadata": {},
   "outputs": [],
   "source": []
  },
  {
   "cell_type": "markdown",
   "metadata": {},
   "source": [
    "## Review and Exercises\n",
    "\n",
    "At this point, you should be comfortable with using:\n",
    "\n",
    "* Dataframes\n",
    "* Indexing\n",
    "* `for`, `if`, `elif`, `else`\n",
    "* Making line plots with `matplotlib`\n",
    "* Using the indexed structures `list` and `numpy.array`\n",
    "\n",
    "Now, complete the code challenges below. Remember that:\n",
    "\n",
    "* You probably have figured out that there are many built-in functions that do exactly the same as our `for` loops, possibly even faster. Refrain from using those, because the main reason we are doing these is to practice using these control structures.\n",
    "* Also, deactivate AI (co-pilot, chatgpt, and so on). You will probably use it in a real-world production scenario, but the reason we have the code snippets here is to practice, not to get to a unique solution.\n",
    "* At this point, we do not care about being efficient. Try to make your code as legible as possible!"
   ]
  },
  {
   "cell_type": "code",
   "execution_count": 51,
   "metadata": {},
   "outputs": [
    {
     "name": "stdout",
     "output_type": "stream",
     "text": [
      "est: 0.04558347347309895\n",
      "sigma: 1.011317276021584\n"
     ]
    }
   ],
   "source": [
    "# Challenge 1:\n",
    "# The array below contains samples from a Normal distribution. Write code to use these numbers to estimate the mean and standard deviation of the distribution.\n",
    "# Use 'for' loops to iterate over the samples!\n",
    "# Remember you will probably be close to the true values, but not exactly there. The more samples you use, the closer you will be to the true values.\n",
    "N = 1000\n",
    "mu = 0\n",
    "sigma = 1\n",
    "samples = np.random.normal(mu, sigma, N)\n",
    "\n",
    "# Make your solution here (using 'for' loops):\n",
    "# -----\n",
    "\n",
    "\n",
    "# ----\n",
    "# Ground truth answer:\n",
    "print(\"est:\", samples.mean())\n",
    "print(\"sigma:\", samples.std())"
   ]
  },
  {
   "cell_type": "code",
   "execution_count": 52,
   "metadata": {},
   "outputs": [],
   "source": [
    "# Challenge 2:\n",
    "# The array below contains samples from a Binomial distribution. Count how many of these samples are odd and how many are even. \n",
    "# Hint: use a % 2 == 0 to check if a number is even.\n",
    "N = 10000\n",
    "n = 100\n",
    "p = 0.5\n",
    "samples = np.random.binomial(n, p, N)\n",
    "\n",
    "# Make your solution here (using 'for' loops):\n",
    "\n"
   ]
  },
  {
   "cell_type": "code",
   "execution_count": 53,
   "metadata": {},
   "outputs": [],
   "source": [
    "# Challenge 3:\n",
    "# The array below contains samples from a Poisson distribution. Count how many of these samples are prime. Do NOT use ready-made functions, only 'for' loops.\n",
    "N = 10000\n",
    "L = 50\n",
    "samples = np.random.poisson(L, N)\n",
    "\n",
    "# Make your solution here (using 'for' loops):\n"
   ]
  },
  {
   "cell_type": "code",
   "execution_count": 54,
   "metadata": {},
   "outputs": [],
   "source": [
    "# Challenge 4:\n",
    "# The Collatz Conjecture works like this: you will make a series o numbers following the rules below:\n",
    "# - Start with any positive integer n.\n",
    "# - If n is even, the next number is n/2.\n",
    "# - If n is odd, the next number is 3n + 1.\n",
    "# - Repeat the process indefinitely.\n",
    "# The conjecture states that no matter which number you start with, you will always reach 1 eventually.\n",
    "\n",
    "# Write code to test the Collatz Conjecture for numbers between 1 and 1000. You should print the series of numbers generated by the rules above.\n",
    "passed_collatz = True\n",
    "for n in range(1, 1000):\n",
    "    # Make your solution here:\n",
    "    # If it does not obbey the Collatz Conjecture, print the number and break the loop.\n",
    "    if not passed_collatz:\n",
    "        print(\"The Collatz Conjecture does not hold for n =\", n)\n",
    "        break"
   ]
  },
  {
   "cell_type": "code",
   "execution_count": 55,
   "metadata": {},
   "outputs": [
    {
     "name": "stdout",
     "output_type": "stream",
     "text": [
      "[2, 3, 4]\n"
     ]
    }
   ],
   "source": [
    "# Challenge 5\n",
    "# The code below tries to generate a list of the prime numbers lesser than 100. However, there are bugs in the code. Can you find them and fix them?\n",
    "primes = []\n",
    "\n",
    "is_prime = True\n",
    "for n in range(2, 100):\n",
    "    if is_prime:\n",
    "        primes.append(n)\n",
    "    for i in range(2, n):\n",
    "        if n % i == 0:\n",
    "            is_prime = False\n",
    "            break\n",
    "\n",
    "\n",
    "print(primes)"
   ]
  },
  {
   "cell_type": "code",
   "execution_count": 56,
   "metadata": {},
   "outputs": [],
   "source": [
    "# Challenge 6\n",
    "# A common criterion to decide whether an asset is valuable is the Sharpe Ratio.\n",
    "# The Sharpe Ratio is defined as the ratio of the mean of the asset's returns to the standard deviation of the asset's returns.\n",
    "# A return is defined as the difference between the closing price of a stock on a given day and the closing price of the stock on the previous day, divided by the closing price of the stock on the previous day.\n",
    "# Calculate the sharpee ratio for the stock prices of 2024 for the stock 'AAPL'. Do NOT use ready-made functions, only 'for' loops.\n",
    "# Remember that the Sharpe Ratio is calculated using the daily *returns*, not the daily prices.\n",
    "\n",
    "# Make your solution here:\n",
    "\n",
    "\n"
   ]
  }
 ],
 "metadata": {
  "kernelspec": {
   "display_name": "Test",
   "language": "python",
   "name": "python3"
  },
  "language_info": {
   "codemirror_mode": {
    "name": "ipython",
    "version": 3
   },
   "file_extension": ".py",
   "mimetype": "text/x-python",
   "name": "python",
   "nbconvert_exporter": "python",
   "pygments_lexer": "ipython3",
   "version": "3.13.1"
  }
 },
 "nbformat": 4,
 "nbformat_minor": 2
}
