{
 "cells": [
  {
   "cell_type": "markdown",
   "metadata": {},
   "source": [
    "# Downloading data\n",
    "\n",
    "An important source of data for research in Economics is the government. Governments usually gather data to identify the needs and the impacts of public policies, and these data are often open. In this notebook, we will work with governamental data.\n",
    "\n",
    "## Functions\n",
    "\n",
    "If everything went well, you have programmed some code that looks like this:"
   ]
  },
  {
   "cell_type": "code",
   "execution_count": 2,
   "metadata": {},
   "outputs": [
    {
     "name": "stdout",
     "output_type": "stream",
     "text": [
      "[2, 3, 5, 7, 11, 13, 17, 19, 23, 29, 31, 37, 41, 43, 47, 53, 59, 61, 67, 71, 73, 79, 83, 89, 97]\n"
     ]
    }
   ],
   "source": [
    "# Find prime numbers between 1 and 100\n",
    "all_primes = []\n",
    "for i in range(2, 100):\n",
    "    is_prime = True\n",
    "    for j in range(2, int(i**0.5)+1):\n",
    "        if i % j == 0:\n",
    "            is_prime = False\n",
    "            break\n",
    "    if is_prime:\n",
    "        all_primes.append(i)\n",
    "print(all_primes)"
   ]
  },
  {
   "cell_type": "markdown",
   "metadata": {},
   "source": [
    "See that there is an \"if\" statement within a \"for\" loop, which by itself is within a \"for\" loop. These are called \"nested\" structures. Nested structures do work, but are really confusing to debug because they usually belong to different levels of complexity: one thing is to iterate through all numbers, the other is to test whether a number is prime, and another thing is to test if a number is divisible by a particular other number. In this type of situation, we use *functions*. We can define a function using the `def` statement:"
   ]
  },
  {
   "cell_type": "code",
   "execution_count": 3,
   "metadata": {},
   "outputs": [],
   "source": [
    "def is_prime(n):\n",
    "    if n < 2:\n",
    "        return False\n",
    "    for i in range(2, int(n**0.5)+1):\n",
    "        if n % i == 0:\n",
    "            return False\n",
    "    return True"
   ]
  },
  {
   "cell_type": "markdown",
   "metadata": {},
   "source": [
    "now, we can use our function in the loop to make it much more readable:"
   ]
  },
  {
   "cell_type": "code",
   "execution_count": 4,
   "metadata": {},
   "outputs": [
    {
     "name": "stdout",
     "output_type": "stream",
     "text": [
      "[2, 3, 5, 7, 11, 13, 17, 19, 23, 29, 31, 37, 41, 43, 47, 53, 59, 61, 67, 71, 73, 79, 83, 89, 97]\n"
     ]
    }
   ],
   "source": [
    "all_primes = []\n",
    "for i in range(2, 100):\n",
    "    if is_prime(i):\n",
    "        all_primes.append(i)\n",
    "print(all_primes)"
   ]
  },
  {
   "cell_type": "markdown",
   "metadata": {},
   "source": [
    "Great. Let's put that to work.\n",
    "\n",
    "If you are working with data, you will probably have to dig data catalogs at some point. In Brazil, we have many sources of open data like [Portal de Dados Abertos](https://dados.gov.br/home), [DataSUS](https://datasus.saude.gov.,r/), and so on. It might be the case that you use other data sources - maybe the World Bank, Bloomberg, or some other secondary data provider. \n",
    "\n",
    "Unfortunatelly, there is no standard for making data available online. There are, however, some possible approaches.\n",
    "\n",
    "## Brazil's Central Bank API\n",
    "\n",
    "The best case scenario for data access is when you have an API. An API (API stands for Application Programming Interface) works like a special website that is meant to be accessed by other programs. It will essentially reply to requests using machine-readable formats. A great example is the API for Brazil's central bank (BCB), whose documentation is [here](https://olinda.bcb.gov.br/olinda/servico/PTAX/versao/v1/swagger-ui3#/):"
   ]
  },
  {
   "cell_type": "code",
   "execution_count": 5,
   "metadata": {},
   "outputs": [
    {
     "name": "stdout",
     "output_type": "stream",
     "text": [
      "{'@odata.context': 'https://was-p.bcnet.bcb.gov.br/olinda/servico/PTAX/versao/v1/odata$metadata#Moedas', 'value': [{'simbolo': 'AUD', 'nomeFormatado': 'Dólar australiano', 'tipoMoeda': 'B'}, {'simbolo': 'CAD', 'nomeFormatado': 'Dólar canadense', 'tipoMoeda': 'A'}, {'simbolo': 'CHF', 'nomeFormatado': 'Franco suíço', 'tipoMoeda': 'A'}, {'simbolo': 'DKK', 'nomeFormatado': 'Coroa dinamarquesa', 'tipoMoeda': 'A'}, {'simbolo': 'EUR', 'nomeFormatado': 'Euro', 'tipoMoeda': 'B'}, {'simbolo': 'GBP', 'nomeFormatado': 'Libra Esterlina', 'tipoMoeda': 'B'}, {'simbolo': 'JPY', 'nomeFormatado': 'Iene', 'tipoMoeda': 'A'}, {'simbolo': 'NOK', 'nomeFormatado': 'Coroa norueguesa', 'tipoMoeda': 'A'}, {'simbolo': 'SEK', 'nomeFormatado': 'Coroa sueca', 'tipoMoeda': 'A'}, {'simbolo': 'USD', 'nomeFormatado': 'Dólar dos Estados Unidos', 'tipoMoeda': 'A'}]}\n"
     ]
    }
   ],
   "source": [
    "import requests\n",
    "URL = \"https://olinda.bcb.gov.br/olinda/servico/PTAX/versao/v1/odata/Moedas\"\n",
    "params = {'$format': 'json'}\n",
    "response = requests.get(URL, params=params) # This is the command used to retrieve data from the URL we chose\n",
    "data = response.json()\n",
    "print(data)\n"
   ]
  },
  {
   "cell_type": "markdown",
   "metadata": {},
   "source": [
    "Now, note that we have a new data structure showing up here. The `params` variable is a *dictionary*. Dictionaries work like lists, but they are indexed by some label instead of the order they appear.\n",
    "\n",
    "Dictionaries are great for making organized data structures! For example:"
   ]
  },
  {
   "cell_type": "code",
   "execution_count": 6,
   "metadata": {},
   "outputs": [
    {
     "name": "stdout",
     "output_type": "stream",
     "text": [
      "json\n"
     ]
    }
   ],
   "source": [
    "print(params['$format'])"
   ]
  },
  {
   "cell_type": "markdown",
   "metadata": {},
   "source": [
    "And we can access the response we received from the server."
   ]
  },
  {
   "cell_type": "code",
   "execution_count": 7,
   "metadata": {},
   "outputs": [
    {
     "name": "stdout",
     "output_type": "stream",
     "text": [
      "{'@odata.context': 'https://was-p.bcnet.bcb.gov.br/olinda/servico/PTAX/versao/v1/odata$metadata#_CotacaoDolarDia', 'value': [{'cotacaoCompra': 1.1157, 'cotacaoVenda': 1.1165, 'dataHoraCotacao': '1998-01-02 18:50:00.0'}]}\n",
      "1.1157\n"
     ]
    }
   ],
   "source": [
    "import requests\n",
    "URL = \"https://olinda.bcb.gov.br/olinda/servico/PTAX/versao/v1/odata/CotacaoDolarDia(dataCotacao=@dataCotacao)\"\n",
    "params = {'@dataCotacao' : '\\'01-02-1998\\'', # Note that we have to use single quotes to make a string, and a scaped single quote to make a string inside the string\n",
    "          '$format': 'json'}\n",
    "response = requests.get(URL, params=params) # This is the command used to retrieve data from the URL we chose\n",
    "data = response.json()\n",
    "print(data)\n",
    "print(data['value'][0]['cotacaoCompra'])\n"
   ]
  },
  {
   "cell_type": "markdown",
   "metadata": {},
   "source": [
    "### Exercise: make a function to calculate profits with an API\n",
    "\n",
    "Now let's put everything together. Implement the function below. It receives an initial date and a final date, and an initial investment amount. The function receives three parameters: an initial date (you can assume the format MM-DD-YYYY), a final date, and an initial investment in BRL. Suppose we bought USD from BRL in the initial date with the `cotacaoCompra` value, and sold it in the final date with the `cotacaoVenda` value. The function, then, returns the amount of BRL we have, assuming there were no transaction costs.\n",
    "\n",
    "HINT: you can use the formatted string syntax to make strings from parameters, like:"
   ]
  },
  {
   "cell_type": "code",
   "execution_count": 8,
   "metadata": {},
   "outputs": [
    {
     "name": "stdout",
     "output_type": "stream",
     "text": [
      "'01-03-2000'\n"
     ]
    }
   ],
   "source": [
    "year = 2000\n",
    "formatted_string = f\"\\'01-03-{year}\\'\"\n",
    "print(formatted_string)"
   ]
  },
  {
   "cell_type": "code",
   "execution_count": 9,
   "metadata": {},
   "outputs": [
    {
     "name": "stdout",
     "output_type": "stream",
     "text": [
      "0\n"
     ]
    }
   ],
   "source": [
    "def my_profit_buy_and_hold_dollar(initial_date, final_date, initial_investment_brl):\n",
    "    # Implement your answer here\n",
    "\n",
    "    return 0 # After selling, I will have this amount of BRL\n",
    "\n",
    "# A simple test for the function\n",
    "new_value = my_profit_buy_and_hold_dollar(\"01-03-2000\", \"01-02-2025\", 1000) # Expected answer: 3448.64\n",
    "print(new_value)"
   ]
  },
  {
   "cell_type": "markdown",
   "metadata": {},
   "source": [
    "## DataSUS: Retrieving data from human-readable URLs\n",
    "\n",
    "Sometimes we don't have an API. Sometimes we simply have a website that links some files. This is the case, for example, of Brazil's [INEP data](https://www.gov.br/inep/pt-br/acesso-a-informacao/dados-abertos/microdados), and the [Tabnet system for DataSUS](https://datasus.saude.gov.br/informacoes-de-saude-tabnet/). In this case, the solution is to download the files using the `requests` library, saving it to a temporary file, and then reading it to a machine-readable format. Let's go with an example.\n",
    "\n",
    "DataSUS allows us to get the GDP per capita for all municipalities in the state of São Paulo. At the end of the page that displays data, there is a button that shows a link for you to copy data as a comma-separated-values (CSV) file. If you copy the link address, you get the value `'http://tabnet.datasus.gov.br/csv/ibge_cnv_pibmu171752186_204_58_216.csv'`. We can now download this data and save it to a local file:"
   ]
  },
  {
   "cell_type": "code",
   "execution_count": null,
   "metadata": {},
   "outputs": [],
   "source": [
    "import requests\n",
    "CSV_URL = 'http://tabnet.datasus.gov.br/csv/ibge_cnv_pibmu171752186_204_58_216.csv'\n",
    "headers = {'User-Agent': 'Mozilla/5.0 (Windows NT 10.0; Win64; x64; rv:91.0) Gecko/20100101 Firefox/91.0'}\n",
    "response = requests.get(CSV_URL, headers=headers)\n",
    "data = response.text\n",
    "with open('data.csv', 'w') as f:\n",
    "    f.write(data)"
   ]
  },
  {
   "cell_type": "code",
   "execution_count": 54,
   "metadata": {},
   "outputs": [],
   "source": [
    "import requests\n",
    "CSV_URL = 'http://tabnet.datasus.gov.br/csv/ibge_cnv_pibmu110313186_232_61_62.csv'\n",
    "headers = {'User-Agent': 'Mozilla/5.0 (Windows NT 10.0; Win64; x64; rv:91.0) Gecko/20100101 Firefox/91.0'}\n",
    "response = requests.get(CSV_URL, headers=headers)\n",
    "data = response.text\n",
    "with open('data.csv', 'w') as f:\n",
    "    f.write(data)"
   ]
  },
  {
   "cell_type": "markdown",
   "metadata": {},
   "source": [
    "Now there is something new there! Headers!\n",
    "\n",
    "These headers are there to \"pretend\" we are Firefox running on a Windows system. They are required by the DataSUS server to prevent bots from downloading their data.\n",
    "\n",
    "Anyway, we now have a file `data.csv` with our data. Let's open it and see what is there:"
   ]
  },
  {
   "cell_type": "code",
   "execution_count": 55,
   "metadata": {},
   "outputs": [
    {
     "name": "stdout",
     "output_type": "stream",
     "text": [
      "***First 6 lines:\n",
      "[.]Produto interno bruto per capita - 2010 a 2013, referęncia 2010 - Săo Paulo\n",
      "[.]\n",
      "[.]PIB per capita por Município\n",
      "[.]\n",
      "[.]Período:2013\n",
      "[.]\n",
      "\n",
      "***Last 15 lines:\n",
      "[.]\n",
      "[.]\n",
      "[.]\n",
      "[.]Valores do PIB per capita estăo em reais correntes. Os demais valores estăo em milhares de reais correntes.\n",
      "[.]\n",
      "[.]Os valores do PIB per capita podem divergir do publicado em outras fontes, caso haja diferença\n",
      "[.]\n",
      "[.]nos valores estimados da populaçăo.\n",
      "[.]\n",
      "[.]Série histórica construída com a referęncia 2010.\n",
      "[.]\n",
      "[.]Para mais detalhes sobre a metodologia de cálculo, consulte o sítio do IBGE.\n",
      "[.]\n",
      "[.]\n",
      "[.]\n"
     ]
    }
   ],
   "source": [
    "with open('data.csv', 'r') as file:\n",
    "    lines = file.readlines()\n",
    "    print(\"***First 6 lines:\")\n",
    "    for line in lines[:6]:\n",
    "        print('[.]'+line.strip())\n",
    "    print(\"\\n***Last 15 lines:\")\n",
    "    for line in lines[-15:]:\n",
    "        print('[.]'+ line.strip())"
   ]
  },
  {
   "cell_type": "markdown",
   "metadata": {},
   "source": [
    "As we can see, we have a text file containing:\n",
    "1. 3 lines of header information,\n",
    "1. Many lines with municipality names and GDP per capita, separated by a semicolon (;),\n",
    "1. Values use a colon (,) to separate fractions\n",
    "1. 11 lines of footer information\n",
    "\n",
    "We can open this file with the `read_csv` function from Pandas:"
   ]
  },
  {
   "cell_type": "code",
   "execution_count": 71,
   "metadata": {},
   "outputs": [
    {
     "data": {
      "text/html": [
       "<div>\n",
       "<style scoped>\n",
       "    .dataframe tbody tr th:only-of-type {\n",
       "        vertical-align: middle;\n",
       "    }\n",
       "\n",
       "    .dataframe tbody tr th {\n",
       "        vertical-align: top;\n",
       "    }\n",
       "\n",
       "    .dataframe thead th {\n",
       "        text-align: right;\n",
       "    }\n",
       "</style>\n",
       "<table border=\"1\" class=\"dataframe\">\n",
       "  <thead>\n",
       "    <tr style=\"text-align: right;\">\n",
       "      <th></th>\n",
       "      <th>Municipio</th>\n",
       "      <th>PIB_per_capita</th>\n",
       "    </tr>\n",
       "  </thead>\n",
       "  <tbody>\n",
       "    <tr>\n",
       "      <th>0</th>\n",
       "      <td>350010 ADAMANTINA</td>\n",
       "      <td>22168.60</td>\n",
       "    </tr>\n",
       "    <tr>\n",
       "      <th>1</th>\n",
       "      <td>350020 ADOLFO</td>\n",
       "      <td>19727.55</td>\n",
       "    </tr>\n",
       "    <tr>\n",
       "      <th>2</th>\n",
       "      <td>350030 AGUAI</td>\n",
       "      <td>19361.12</td>\n",
       "    </tr>\n",
       "    <tr>\n",
       "      <th>3</th>\n",
       "      <td>350040 AGUAS DA PRATA</td>\n",
       "      <td>15175.01</td>\n",
       "    </tr>\n",
       "    <tr>\n",
       "      <th>4</th>\n",
       "      <td>350050 AGUAS DE LINDOIA</td>\n",
       "      <td>20375.06</td>\n",
       "    </tr>\n",
       "  </tbody>\n",
       "</table>\n",
       "</div>"
      ],
      "text/plain": [
       "                 Municipio  PIB_per_capita\n",
       "0        350010 ADAMANTINA        22168.60\n",
       "1            350020 ADOLFO        19727.55\n",
       "2             350030 AGUAI        19361.12\n",
       "3    350040 AGUAS DA PRATA        15175.01\n",
       "4  350050 AGUAS DE LINDOIA        20375.06"
      ]
     },
     "execution_count": 71,
     "metadata": {},
     "output_type": "execute_result"
    }
   ],
   "source": [
    "import pandas as pd\n",
    "df = pd.read_csv(\n",
    "    'data.csv',\n",
    "    sep=';',\n",
    "    decimal=',',\n",
    "    skiprows=6,\n",
    "    skipfooter=22,\n",
    "    engine='python',\n",
    ")\n",
    "df.head()\n"
   ]
  },
  {
   "cell_type": "markdown",
   "metadata": {},
   "source": [
    "Ok, we will need a little more processing here. Our municipalities have both a number and a name. We can separate them using the `.split` method for strings:"
   ]
  },
  {
   "cell_type": "code",
   "execution_count": 57,
   "metadata": {},
   "outputs": [
    {
     "data": {
      "text/plain": [
       "['350040', 'AGUAS DA PRATA']"
      ]
     },
     "execution_count": 57,
     "metadata": {},
     "output_type": "execute_result"
    }
   ],
   "source": [
    "'350040 AGUAS DA PRATA'.split(sep=' ', maxsplit=1)"
   ]
  },
  {
   "cell_type": "markdown",
   "metadata": {},
   "source": [
    "So, let's make a function that gets the municipality name from the data found in the CSV file:"
   ]
  },
  {
   "cell_type": "code",
   "execution_count": 73,
   "metadata": {},
   "outputs": [],
   "source": [
    "def municipality_name(raw_municipality_data):\n",
    "    return raw_municipality_data.split(sep=' ', maxsplit=1)[1]\n"
   ]
  },
  {
   "cell_type": "markdown",
   "metadata": {},
   "source": [
    "Finally, we use the `.apply()` method from Pandas to create a new column with the required data:"
   ]
  },
  {
   "cell_type": "code",
   "execution_count": 74,
   "metadata": {},
   "outputs": [
    {
     "data": {
      "text/html": [
       "<div>\n",
       "<style scoped>\n",
       "    .dataframe tbody tr th:only-of-type {\n",
       "        vertical-align: middle;\n",
       "    }\n",
       "\n",
       "    .dataframe tbody tr th {\n",
       "        vertical-align: top;\n",
       "    }\n",
       "\n",
       "    .dataframe thead th {\n",
       "        text-align: right;\n",
       "    }\n",
       "</style>\n",
       "<table border=\"1\" class=\"dataframe\">\n",
       "  <thead>\n",
       "    <tr style=\"text-align: right;\">\n",
       "      <th></th>\n",
       "      <th>Municipio</th>\n",
       "      <th>PIB_per_capita</th>\n",
       "      <th>Mun_name</th>\n",
       "    </tr>\n",
       "  </thead>\n",
       "  <tbody>\n",
       "    <tr>\n",
       "      <th>0</th>\n",
       "      <td>350010 ADAMANTINA</td>\n",
       "      <td>22168.60</td>\n",
       "      <td>ADAMANTINA</td>\n",
       "    </tr>\n",
       "    <tr>\n",
       "      <th>1</th>\n",
       "      <td>350020 ADOLFO</td>\n",
       "      <td>19727.55</td>\n",
       "      <td>ADOLFO</td>\n",
       "    </tr>\n",
       "    <tr>\n",
       "      <th>2</th>\n",
       "      <td>350030 AGUAI</td>\n",
       "      <td>19361.12</td>\n",
       "      <td>AGUAI</td>\n",
       "    </tr>\n",
       "    <tr>\n",
       "      <th>3</th>\n",
       "      <td>350040 AGUAS DA PRATA</td>\n",
       "      <td>15175.01</td>\n",
       "      <td>AGUAS DA PRATA</td>\n",
       "    </tr>\n",
       "    <tr>\n",
       "      <th>4</th>\n",
       "      <td>350050 AGUAS DE LINDOIA</td>\n",
       "      <td>20375.06</td>\n",
       "      <td>AGUAS DE LINDOIA</td>\n",
       "    </tr>\n",
       "  </tbody>\n",
       "</table>\n",
       "</div>"
      ],
      "text/plain": [
       "                 Municipio  PIB_per_capita          Mun_name\n",
       "0        350010 ADAMANTINA        22168.60        ADAMANTINA\n",
       "1            350020 ADOLFO        19727.55            ADOLFO\n",
       "2             350030 AGUAI        19361.12             AGUAI\n",
       "3    350040 AGUAS DA PRATA        15175.01    AGUAS DA PRATA\n",
       "4  350050 AGUAS DE LINDOIA        20375.06  AGUAS DE LINDOIA"
      ]
     },
     "execution_count": 74,
     "metadata": {},
     "output_type": "execute_result"
    }
   ],
   "source": [
    "df['Mun_name'] = df['Municipio'].apply(municipality_name)\n",
    "df.head()"
   ]
  },
  {
   "cell_type": "markdown",
   "metadata": {},
   "source": [
    "### Exercise: find the richest municipality\n",
    "\n",
    "Write a function that receives a dataframe with (at least) the `PIB_per_capita` and `Mun_name` columns and finds the municipality with the largest GDP per capita.\n"
   ]
  },
  {
   "cell_type": "code",
   "execution_count": 75,
   "metadata": {},
   "outputs": [
    {
     "data": {
      "text/plain": [
       "'SAO PAULO'"
      ]
     },
     "execution_count": 75,
     "metadata": {},
     "output_type": "execute_result"
    }
   ],
   "source": [
    "def richest_municipality(df):\n",
    "    return 'SAO PAULO'\n",
    "\n",
    "richest_municipality(df) # Expected answer: 'LOUVEIRA'"
   ]
  },
  {
   "cell_type": "markdown",
   "metadata": {},
   "source": []
  },
  {
   "cell_type": "markdown",
   "metadata": {},
   "source": [
    "## Review and Exercises\n",
    "\n",
    "At this point, you should be comfortable with:\n",
    "\n",
    "* Using the \"requests\" library to access both APIs and human-readable URLS.\n",
    "* Usign dictionaries and nested data structures\n",
    "\n",
    "Now let's get some things done:"
   ]
  },
  {
   "cell_type": "code",
   "execution_count": 148,
   "metadata": {},
   "outputs": [],
   "source": [
    "# Challenge 1\n",
    "# Write a function in Python that receives a start date, an end date, a foreign coin definition and an initial investment in BRL. \n",
    "# The function should return the profit obtained by buying and holding the foreign coin during the period. \n",
    "# The function should use the BCB API to get the exchange rate of the foreign coin in BRL. The function should return the profit in BRL. \n",
    "# HINT: refer to the BCB API documentation to understand how to use it (https://olinda.bcb.gov.br/olinda/servico/PTAX/versao/v1/swagger-ui3#/)\n",
    "# HINT: you might use the /CotacaoMoedaDia endpoint to get your data\n",
    "\n",
    "def bcb_buy_and_hold(initial_date, final_date, initial_investment, coin):\n",
    "    # Implement your answer here\n",
    "\n",
    "    return 0 # After selling, I will have this amount of BRL\n"
   ]
  },
  {
   "cell_type": "code",
   "execution_count": 149,
   "metadata": {},
   "outputs": [],
   "source": [
    "# Challenge 2\n",
    "# One problem we have with downloaded data is that we don't want to download data again if we have already done so - but we need to make sure\n",
    "# that the data is up to date. Write a function that receives a URL and a file name. The function should download the data from the URL and save it\n",
    "# to the file name. If the file already exists, the function should not download the data again, and, instead, it just skips this step.\n",
    "# HINT: you can use the os library to check if a file already exists:\n",
    "# import os\n",
    "# os.path.exists(file_name) # This function returns True if the file exists, and False otherwise\n",
    "\n",
    "def download_data(URL, file_name):\n",
    "    # Implement your answer here\n",
    "    return None\n"
   ]
  },
  {
   "cell_type": "code",
   "execution_count": 150,
   "metadata": {},
   "outputs": [],
   "source": [
    "# Challenge 3\n",
    "# Write a function that returns the name of the municipality with the highest GDP per capita in Brazil. It must use data from DataSUS.\n",
    "# The function must use the solution for Challenge 2 to avoid downloading data multiple times if the function is called multiple times.\n",
    "\n",
    "def richest_municipality_in_brazil():\n",
    "    # Implement your answer here\n",
    "    # download_data(URL, file_name) # this is a call to the solution of challenge 2\n",
    "    return 'SAO PAULO'\n"
   ]
  },
  {
   "cell_type": "code",
   "execution_count": 151,
   "metadata": {},
   "outputs": [],
   "source": [
    "# Challenge 4\n",
    "# Write a function that receives a DataFrame with the data from DataSUS and returns the names of the municipalities with the highest and lowest GDP per capita.\n",
    "# It should return a dictionary with the keys 'richest' and 'poorest' and the names of the municipalities as values.\n",
    "# for example: {'richest': 'SAO PAULO', 'poorest': 'RIO DE JANEIRO'}\n",
    "\n",
    "def richest_and_poorest_in_brazil():\n",
    "    # Implement your answer here\n",
    "    return {'richest': 'SAO PAULO', 'poorest': 'RIO DE JANEIRO'}"
   ]
  }
 ],
 "metadata": {
  "kernelspec": {
   "display_name": "Test",
   "language": "python",
   "name": "python3"
  },
  "language_info": {
   "codemirror_mode": {
    "name": "ipython",
    "version": 3
   },
   "file_extension": ".py",
   "mimetype": "text/x-python",
   "name": "python",
   "nbconvert_exporter": "python",
   "pygments_lexer": "ipython3",
   "version": "3.13.1"
  }
 },
 "nbformat": 4,
 "nbformat_minor": 2
}
